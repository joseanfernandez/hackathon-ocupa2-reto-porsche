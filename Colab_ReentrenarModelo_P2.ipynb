{
  "nbformat": 4,
  "nbformat_minor": 0,
  "metadata": {
    "colab": {
      "name": "Copia de ReentrenarModelo_P2.ipynb",
      "version": "0.3.2",
      "provenance": [],
      "collapsed_sections": [],
      "toc_visible": true
    },
    "kernelspec": {
      "name": "python2",
      "display_name": "Python 2"
    }
  },
  "cells": [
    {
      "metadata": {
        "id": "D8Kmi5hHRTjd",
        "colab_type": "text"
      },
      "cell_type": "markdown",
      "source": [
        "#### 00 Comprobar TensorFlow en Python"
      ]
    },
    {
      "metadata": {
        "id": "IgNehhjxQo-T",
        "colab_type": "code",
        "outputId": "f9251da3-7c3f-474d-dfb8-70e6281a788a",
        "colab": {
          "base_uri": "https://localhost:8080/",
          "height": 34
        }
      },
      "cell_type": "code",
      "source": [
        "!python -c 'import tensorflow as tf; print(tf.__version__)'"
      ],
      "execution_count": 0,
      "outputs": [
        {
          "output_type": "stream",
          "text": [
            "2.0.0-dev20190331\n"
          ],
          "name": "stdout"
        }
      ]
    },
    {
      "metadata": {
        "id": "4wSePAU1fzlT",
        "colab_type": "text"
      },
      "cell_type": "markdown",
      "source": [
        "Si no está agegado:"
      ]
    },
    {
      "metadata": {
        "id": "H0CfNkeLf5ky",
        "colab_type": "code",
        "outputId": "1d603e02-07d6-465b-e3b0-3adc0968dc9e",
        "colab": {
          "base_uri": "https://localhost:8080/",
          "height": 547
        }
      },
      "cell_type": "code",
      "source": [
        "pip install tensorflowjs"
      ],
      "execution_count": 0,
      "outputs": [
        {
          "output_type": "stream",
          "text": [
            "Requirement already satisfied: tensorflowjs in /usr/local/lib/python2.7/dist-packages (1.0.1)\n",
            "Requirement already satisfied: h5py==2.8.0 in /usr/local/lib/python2.7/dist-packages (from tensorflowjs) (2.8.0)\n",
            "Requirement already satisfied: tf-nightly-2.0-preview>=2.0.0.dev20190304 in /usr/local/lib/python2.7/dist-packages (from tensorflowjs) (2.0.0.dev20190331)\n",
            "Requirement already satisfied: tensorflow-hub==0.3.0 in /usr/local/lib/python2.7/dist-packages (from tensorflowjs) (0.3.0)\n",
            "Requirement already satisfied: numpy==1.15.1 in /usr/local/lib/python2.7/dist-packages (from tensorflowjs) (1.15.1)\n",
            "Requirement already satisfied: six==1.11.0 in /usr/local/lib/python2.7/dist-packages (from tensorflowjs) (1.11.0)\n",
            "Requirement already satisfied: keras==2.2.4 in /usr/local/lib/python2.7/dist-packages (from tensorflowjs) (2.2.4)\n",
            "Requirement already satisfied: grpcio>=1.8.6 in /usr/local/lib/python2.7/dist-packages (from tf-nightly-2.0-preview>=2.0.0.dev20190304->tensorflowjs) (1.15.0)\n",
            "Requirement already satisfied: mock>=2.0.0 in /usr/local/lib/python2.7/dist-packages (from tf-nightly-2.0-preview>=2.0.0.dev20190304->tensorflowjs) (2.0.0)\n",
            "Requirement already satisfied: keras-applications>=1.0.6 in /usr/local/lib/python2.7/dist-packages (from tf-nightly-2.0-preview>=2.0.0.dev20190304->tensorflowjs) (1.0.7)\n",
            "Requirement already satisfied: tb-nightly<1.15.0a0,>=1.14.0a0 in /usr/local/lib/python2.7/dist-packages (from tf-nightly-2.0-preview>=2.0.0.dev20190304->tensorflowjs) (1.14.0a20190319)\n",
            "Requirement already satisfied: backports.weakref>=1.0rc1 in /usr/local/lib/python2.7/dist-packages (from tf-nightly-2.0-preview>=2.0.0.dev20190304->tensorflowjs) (1.0.post1)\n",
            "Requirement already satisfied: google-pasta>=0.1.2 in /usr/local/lib/python2.7/dist-packages (from tf-nightly-2.0-preview>=2.0.0.dev20190304->tensorflowjs) (0.1.4)\n",
            "Requirement already satisfied: enum34>=1.1.6 in /usr/local/lib/python2.7/dist-packages (from tf-nightly-2.0-preview>=2.0.0.dev20190304->tensorflowjs) (1.1.6)\n",
            "Requirement already satisfied: protobuf>=3.6.1 in /usr/local/lib/python2.7/dist-packages (from tf-nightly-2.0-preview>=2.0.0.dev20190304->tensorflowjs) (3.7.1)\n",
            "Requirement already satisfied: keras-preprocessing>=1.0.5 in /usr/local/lib/python2.7/dist-packages (from tf-nightly-2.0-preview>=2.0.0.dev20190304->tensorflowjs) (1.0.9)\n",
            "Requirement already satisfied: gast>=0.2.0 in /usr/local/lib/python2.7/dist-packages (from tf-nightly-2.0-preview>=2.0.0.dev20190304->tensorflowjs) (0.2.2)\n",
            "Requirement already satisfied: wheel in /usr/local/lib/python2.7/dist-packages (from tf-nightly-2.0-preview>=2.0.0.dev20190304->tensorflowjs) (0.33.1)\n",
            "Requirement already satisfied: absl-py>=0.7.0 in /usr/local/lib/python2.7/dist-packages (from tf-nightly-2.0-preview>=2.0.0.dev20190304->tensorflowjs) (0.7.1)\n",
            "Requirement already satisfied: termcolor>=1.1.0 in /usr/local/lib/python2.7/dist-packages (from tf-nightly-2.0-preview>=2.0.0.dev20190304->tensorflowjs) (1.1.0)\n",
            "Requirement already satisfied: tensorflow-estimator-2.0-preview in /usr/local/lib/python2.7/dist-packages (from tf-nightly-2.0-preview>=2.0.0.dev20190304->tensorflowjs) (1.14.0.dev2019033100)\n",
            "Requirement already satisfied: astor>=0.6.0 in /usr/local/lib/python2.7/dist-packages (from tf-nightly-2.0-preview>=2.0.0.dev20190304->tensorflowjs) (0.7.1)\n",
            "Requirement already satisfied: scipy>=0.14 in /usr/local/lib/python2.7/dist-packages (from keras==2.2.4->tensorflowjs) (1.1.0)\n",
            "Requirement already satisfied: pyyaml in /usr/local/lib/python2.7/dist-packages (from keras==2.2.4->tensorflowjs) (3.13)\n",
            "Requirement already satisfied: futures>=2.2.0 in /usr/local/lib/python2.7/dist-packages (from grpcio>=1.8.6->tf-nightly-2.0-preview>=2.0.0.dev20190304->tensorflowjs) (3.2.0)\n",
            "Requirement already satisfied: funcsigs>=1; python_version < \"3.3\" in /usr/local/lib/python2.7/dist-packages (from mock>=2.0.0->tf-nightly-2.0-preview>=2.0.0.dev20190304->tensorflowjs) (1.0.2)\n",
            "Requirement already satisfied: pbr>=0.11 in /usr/local/lib/python2.7/dist-packages (from mock>=2.0.0->tf-nightly-2.0-preview>=2.0.0.dev20190304->tensorflowjs) (5.1.3)\n",
            "Requirement already satisfied: werkzeug>=0.11.15 in /usr/local/lib/python2.7/dist-packages (from tb-nightly<1.15.0a0,>=1.14.0a0->tf-nightly-2.0-preview>=2.0.0.dev20190304->tensorflowjs) (0.15.1)\n",
            "Requirement already satisfied: markdown>=2.6.8 in /usr/local/lib/python2.7/dist-packages (from tb-nightly<1.15.0a0,>=1.14.0a0->tf-nightly-2.0-preview>=2.0.0.dev20190304->tensorflowjs) (3.1)\n",
            "Requirement already satisfied: setuptools in /usr/local/lib/python2.7/dist-packages (from protobuf>=3.6.1->tf-nightly-2.0-preview>=2.0.0.dev20190304->tensorflowjs) (40.8.0)\n"
          ],
          "name": "stdout"
        }
      ]
    },
    {
      "metadata": {
        "id": "2agkR-opRj-v",
        "colab_type": "text"
      },
      "cell_type": "markdown",
      "source": [
        "#### 01 InicioCrear carpeta \n",
        "Se crea en root por defecto"
      ]
    },
    {
      "metadata": {
        "id": "qX3w52M0Ra-c",
        "colab_type": "code",
        "colab": {}
      },
      "cell_type": "code",
      "source": [
        "mkdir ~/reentrenar"
      ],
      "execution_count": 0,
      "outputs": []
    },
    {
      "metadata": {
        "id": "bQxI3OlARfN_",
        "colab_type": "code",
        "outputId": "25844e73-c31f-4de6-e181-7d75e1f5bf0e",
        "colab": {
          "base_uri": "https://localhost:8080/",
          "height": 34
        }
      },
      "cell_type": "code",
      "source": [
        "pwd"
      ],
      "execution_count": 0,
      "outputs": [
        {
          "output_type": "execute_result",
          "data": {
            "text/plain": [
              "u'/root/reentrenar'"
            ]
          },
          "metadata": {
            "tags": []
          },
          "execution_count": 31
        }
      ]
    },
    {
      "metadata": {
        "id": "sMk0pHJURlDl",
        "colab_type": "code",
        "outputId": "8a7dd961-588f-43e5-a1a4-c7d14567030c",
        "colab": {
          "base_uri": "https://localhost:8080/",
          "height": 34
        }
      },
      "cell_type": "code",
      "source": [
        "cd /root/reentrenar"
      ],
      "execution_count": 0,
      "outputs": [
        {
          "output_type": "stream",
          "text": [
            "/root/reentrenar\n"
          ],
          "name": "stdout"
        }
      ]
    },
    {
      "metadata": {
        "id": "IAA2Wul8RqO_",
        "colab_type": "code",
        "outputId": "7947ea54-0538-4911-db79-ba9fe5198c61",
        "colab": {
          "base_uri": "https://localhost:8080/",
          "height": 34
        }
      },
      "cell_type": "code",
      "source": [
        "pwd"
      ],
      "execution_count": 0,
      "outputs": [
        {
          "output_type": "execute_result",
          "data": {
            "text/plain": [
              "u'/root/reentrenar'"
            ]
          },
          "metadata": {
            "tags": []
          },
          "execution_count": 33
        }
      ]
    },
    {
      "metadata": {
        "id": "uVQbK71ZSow9",
        "colab_type": "text"
      },
      "cell_type": "markdown",
      "source": [
        "#### Traer imagen reentrenada a la carpeta"
      ]
    },
    {
      "metadata": {
        "id": "gtcxSUPSR0an",
        "colab_type": "code",
        "outputId": "059b2901-c101-4785-82b8-0a372f3422b0",
        "colab": {
          "base_uri": "https://localhost:8080/",
          "height": 85
        }
      },
      "cell_type": "code",
      "source": [
        "!curl -LO https://github.com/tensorflow/hub/raw/master/examples/image_retraining/retrain.py"
      ],
      "execution_count": 0,
      "outputs": [
        {
          "output_type": "stream",
          "text": [
            "  % Total    % Received % Xferd  Average Speed   Time    Time     Time  Current\n",
            "                                 Dload  Upload   Total   Spent    Left  Speed\n",
            "\r  0     0    0     0    0     0      0      0 --:--:-- --:--:-- --:--:--     0\r100   158  100   158    0     0   1284      0 --:--:-- --:--:-- --:--:--  1284\n",
            "\r100 55733  100 55733    0     0   202k      0 --:--:-- --:--:-- --:--:--  202k\n"
          ],
          "name": "stdout"
        }
      ]
    },
    {
      "metadata": {
        "id": "TwvSPP8aR2uR",
        "colab_type": "code",
        "outputId": "6c7da876-1f00-461b-9307-cf4bea9bb9d4",
        "colab": {
          "base_uri": "https://localhost:8080/",
          "height": 34
        }
      },
      "cell_type": "code",
      "source": [
        "ls"
      ],
      "execution_count": 0,
      "outputs": [
        {
          "output_type": "stream",
          "text": [
            "\u001b[0m\u001b[01;34mdataset\u001b[0m/  label_image.py  prueba.jpg  retrain.py  \u001b[01;34msalida\u001b[0m/\n"
          ],
          "name": "stdout"
        }
      ]
    },
    {
      "metadata": {
        "id": "bk2PY-Z6S4sU",
        "colab_type": "text"
      },
      "cell_type": "markdown",
      "source": [
        "#### Crear dataset de imágenes"
      ]
    },
    {
      "metadata": {
        "id": "k8cO_ZW1R8OW",
        "colab_type": "code",
        "outputId": "24cb99c2-6d01-4946-e724-0225fe8bb1e5",
        "colab": {
          "base_uri": "https://localhost:8080/",
          "height": 34
        }
      },
      "cell_type": "code",
      "source": [
        "mkdir dataset"
      ],
      "execution_count": 0,
      "outputs": [
        {
          "output_type": "stream",
          "text": [
            "mkdir: cannot create directory ‘dataset’: File exists\n"
          ],
          "name": "stdout"
        }
      ]
    },
    {
      "metadata": {
        "id": "m4FuJvPXSHYy",
        "colab_type": "code",
        "outputId": "d752b93a-2d5e-455f-8b43-977fe7fa978d",
        "colab": {
          "base_uri": "https://localhost:8080/",
          "height": 34
        }
      },
      "cell_type": "code",
      "source": [
        "ls"
      ],
      "execution_count": 0,
      "outputs": [
        {
          "output_type": "stream",
          "text": [
            "\u001b[0m\u001b[01;34mdataset\u001b[0m/  label_image.py  prueba.jpg  retrain.py  \u001b[01;34msalida\u001b[0m/\n"
          ],
          "name": "stdout"
        }
      ]
    },
    {
      "metadata": {
        "id": "he2RgE20YQDj",
        "colab_type": "code",
        "colab": {}
      },
      "cell_type": "code",
      "source": [
        "mkdir dataset/porche/ dataset/no-porche/"
      ],
      "execution_count": 0,
      "outputs": []
    },
    {
      "metadata": {
        "id": "4PqS4QV7YhLq",
        "colab_type": "code",
        "outputId": "bf4e4bfb-8e70-4304-d1a3-3aeb44297e19",
        "colab": {
          "base_uri": "https://localhost:8080/",
          "height": 34
        }
      },
      "cell_type": "code",
      "source": [
        "ls dataset"
      ],
      "execution_count": 0,
      "outputs": [
        {
          "output_type": "stream",
          "text": [
            "\u001b[0m\u001b[01;34mno-porche\u001b[0m/  \u001b[01;34mporche\u001b[0m/\n"
          ],
          "name": "stdout"
        }
      ]
    },
    {
      "metadata": {
        "id": "3c1qRhz7Tob1",
        "colab_type": "text"
      },
      "cell_type": "markdown",
      "source": [
        "#### Subir set de imagenes"
      ]
    },
    {
      "metadata": {
        "id": "Rp3Cga5eU6iu",
        "colab_type": "text"
      },
      "cell_type": "markdown",
      "source": [
        "#### Reentrenar modelo:"
      ]
    },
    {
      "metadata": {
        "id": "CcWsMfWKe7J4",
        "colab_type": "text"
      },
      "cell_type": "markdown",
      "source": [
        "#### Solo con el dataset"
      ]
    },
    {
      "metadata": {
        "id": "BNgjFP06ojML",
        "colab_type": "code",
        "outputId": "d4bb196e-2cce-4cb4-9bcb-3b2309a12f7f",
        "colab": {
          "base_uri": "https://localhost:8080/",
          "height": 34
        }
      },
      "cell_type": "code",
      "source": [
        "ls"
      ],
      "execution_count": 0,
      "outputs": [
        {
          "output_type": "stream",
          "text": [
            "\u001b[0m\u001b[01;34mdataset\u001b[0m/  label_image.py  prueba.jpg  retrain.py  \u001b[01;34msalida\u001b[0m/\n"
          ],
          "name": "stdout"
        }
      ]
    },
    {
      "metadata": {
        "id": "htv3eysOSo10",
        "colab_type": "code",
        "outputId": "fa6ddcc5-4f67-49d2-fc37-9d93857c6ee1",
        "colab": {
          "base_uri": "https://localhost:8080/",
          "height": 85
        }
      },
      "cell_type": "code",
      "source": [
        "!python retrain.py --image_dir ./dataset"
      ],
      "execution_count": 0,
      "outputs": [
        {
          "output_type": "stream",
          "text": [
            "Traceback (most recent call last):\n",
            "  File \"retrain.py\", line 1346, in <module>\n",
            "    tf.app.run(main=main, argv=[sys.argv[0]] + unparsed)\n",
            "AttributeError: 'module' object has no attribute 'app'\n"
          ],
          "name": "stdout"
        }
      ]
    },
    {
      "metadata": {
        "id": "exCf0kyFfEsQ",
        "colab_type": "text"
      },
      "cell_type": "markdown",
      "source": [
        "#### Reenternar modelo dependiente de mibilenet model[texto del enlace](https://)"
      ]
    },
    {
      "metadata": {
        "id": "TXLc2uJeimgC",
        "colab_type": "code",
        "outputId": "b67fac1e-84b2-401f-e246-b448d2fa8069",
        "colab": {
          "base_uri": "https://localhost:8080/",
          "height": 85
        }
      },
      "cell_type": "code",
      "source": [
        "!python retrain.py \\\n",
        "    --image_dir ./dataset \\\n",
        "    --tfhub_module https://tfhub.dev/google/imagenet/mobilenet_v2_100_224/feature_vector/2"
      ],
      "execution_count": 0,
      "outputs": [
        {
          "output_type": "stream",
          "text": [
            "Traceback (most recent call last):\n",
            "  File \"retrain.py\", line 1346, in <module>\n",
            "    tf.app.run(main=main, argv=[sys.argv[0]] + unparsed)\n",
            "AttributeError: 'module' object has no attribute 'app'\n"
          ],
          "name": "stdout"
        }
      ]
    },
    {
      "metadata": {
        "id": "OGN7E_YMXlsj",
        "colab_type": "text"
      },
      "cell_type": "markdown",
      "source": [
        "#### Modelo reentrenado en carpeta temporal: /tmp/output_graph.pb\n",
        "- Archivo: **output_graph.pb**\n",
        "- Archivo: **output_labels.txt**\n"
      ]
    },
    {
      "metadata": {
        "id": "U0sT7P4_MNNI",
        "colab_type": "code",
        "outputId": "5c506d79-3fa1-4aa7-ac9c-7a70a399e251",
        "colab": {
          "base_uri": "https://localhost:8080/",
          "height": 102
        }
      },
      "cell_type": "code",
      "source": [
        "ls /tmp"
      ],
      "execution_count": 0,
      "outputs": [
        {
          "output_type": "stream",
          "text": [
            "\u001b[0m\u001b[01;34mbottleneck\u001b[0m/                              _retrain_checkpoint.index\n",
            "checkpoint                               _retrain_checkpoint.meta\n",
            "output_graph.pb                          \u001b[01;34mretrain_logs\u001b[0m/\n",
            "output_labels.txt                        \u001b[01;34mtfhub_modules\u001b[0m/\n",
            "_retrain_checkpoint.data-00000-of-00001\n"
          ],
          "name": "stdout"
        }
      ]
    },
    {
      "metadata": {
        "id": "RdYlaGlXYljg",
        "colab_type": "text"
      },
      "cell_type": "markdown",
      "source": [
        "#### Reentrenar modelo: "
      ]
    },
    {
      "metadata": {
        "id": "bSLKfaISarBq",
        "colab_type": "code",
        "colab": {}
      },
      "cell_type": "code",
      "source": [
        "mkdir salida"
      ],
      "execution_count": 0,
      "outputs": []
    },
    {
      "metadata": {
        "id": "a2aPKQIxMm3_",
        "colab_type": "code",
        "outputId": "0aa78275-dd6b-4a3f-d665-f5b9cc6d62c0",
        "colab": {
          "base_uri": "https://localhost:8080/",
          "height": 343
        }
      },
      "cell_type": "code",
      "source": [
        "!tensorflowjs_converter \\\n",
        "    --input_format=tf_hub \\\n",
        "    --output_format=tfjs_graph_model \\\n",
        "    --saved_model_tags=serve \\\n",
        "    /tmp/output_graph.pb \\\n",
        "    salida"
      ],
      "execution_count": 0,
      "outputs": [
        {
          "output_type": "stream",
          "text": [
            "Traceback (most recent call last):\n",
            "  File \"/usr/local/bin/tensorflowjs_converter\", line 10, in <module>\n",
            "    sys.exit(main())\n",
            "  File \"/usr/local/lib/python2.7/dist-packages/tensorflowjs/converters/converter.py\", line 364, in main\n",
            "    strip_debug_ops=FLAGS.strip_debug_ops)\n",
            "  File \"/usr/local/lib/python2.7/dist-packages/tensorflowjs/converters/tf_saved_model_conversion_v2.py\", line 349, in convert_tf_hub_module\n",
            "    module_path, signature)\n",
            "  File \"/usr/local/lib/python2.7/dist-packages/tensorflowjs/converters/tf_saved_model_conversion_v2.py\", line 296, in load_and_initialize_hub_module\n",
            "    module = hub.Module(module_path)\n",
            "  File \"/usr/local/lib/python2.7/dist-packages/tensorflow_hub/module.py\", line 147, in __init__\n",
            "    self._spec = as_module_spec(spec)\n",
            "  File \"/usr/local/lib/python2.7/dist-packages/tensorflow_hub/module.py\", line 36, in as_module_spec\n",
            "    return load_module_spec(spec)\n",
            "  File \"/usr/local/lib/python2.7/dist-packages/tensorflow_hub/module.py\", line 61, in load_module_spec\n",
            "    return registry.loader(path)\n",
            "  File \"/usr/local/lib/python2.7/dist-packages/tensorflow_hub/registry.py\", line 45, in __call__\n",
            "    self._name, args, kwargs))\n",
            "RuntimeError: Missing implementation that supports: loader(*('/tmp/output_graph.pb',), **{})\n"
          ],
          "name": "stdout"
        }
      ]
    },
    {
      "metadata": {
        "id": "NE_JkEsQqN56",
        "colab_type": "text"
      },
      "cell_type": "markdown",
      "source": [
        "#### Probando modelo con una imagen: prueba.jpg"
      ]
    },
    {
      "metadata": {
        "colab_type": "code",
        "outputId": "cc316fd6-fa98-4cf3-e8dc-00153daa290d",
        "id": "foktJdjPofDJ",
        "colab": {
          "base_uri": "https://localhost:8080/",
          "height": 187
        }
      },
      "cell_type": "code",
      "source": [
        "!curl -LO https://github.com/tensorflow/tensorflow/raw/master/tensorflow/examples/label_image/label_image.py\n",
        "!python label_image.py \\\n",
        "--graph=/tmp/output_graph.pb --labels=/tmp/output_labels.txt \\\n",
        "--input_layer=Placeholder \\\n",
        "--output_layer=final_result \\\n",
        "--image=prueba.jpg"
      ],
      "execution_count": 0,
      "outputs": [
        {
          "output_type": "stream",
          "text": [
            "  % Total    % Received % Xferd  Average Speed   Time    Time     Time  Current\n",
            "                                 Dload  Upload   Total   Spent    Left  Speed\n",
            "\r  0     0    0     0    0     0      0      0 --:--:-- --:--:-- --:--:--     0\r100   175  100   175    0     0   2573      0 --:--:-- --:--:-- --:--:--  2573\n",
            "\r100  4707  100  4707    0     0  33863      0 --:--:-- --:--:-- --:--:-- 33863\n",
            "Traceback (most recent call last):\n",
            "  File \"label_image.py\", line 118, in <module>\n",
            "    graph = load_graph(model_file)\n",
            "  File \"label_image.py\", line 28, in load_graph\n",
            "    graph_def = tf.GraphDef()\n",
            "AttributeError: 'module' object has no attribute 'GraphDef'\n"
          ],
          "name": "stdout"
        }
      ]
    }
  ]
}